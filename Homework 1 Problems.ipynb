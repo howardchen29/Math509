{
  "cells": [
    {
      "cell_type": "code",
      "execution_count": null,
      "metadata": {
        "id": "nq23ntMZfeAy"
      },
      "outputs": [],
      "source": [
        "%pylab inline\n",
        "%config InlineBackend.figure_format = 'retina'\n",
        "from ipywidgets import interact"
      ]
    },
    {
      "cell_type": "markdown",
      "metadata": {
        "id": "X0VFVGjlfeAz"
      },
      "source": [
        "# The purpose of the first homework assignment is to have everybody try the homework submission process. This assignment will be graded."
      ]
    },
    {
      "cell_type": "markdown",
      "metadata": {
        "id": "Laad01W7feA0"
      },
      "source": [
        "# Question 1\n",
        "Write Python code in the cell below to answer the following. Solve for $x$ $$2 + 2 = x$$."
      ]
    },
    {
      "cell_type": "code",
      "execution_count": 3,
      "metadata": {
        "id": "5Lc9NQztfeA0",
        "outputId": "fd17ded0-c1ae-41a7-b950-98296318ca72",
        "colab": {
          "base_uri": "https://localhost:8080/"
        }
      },
      "outputs": [
        {
          "output_type": "stream",
          "name": "stdout",
          "text": [
            "The solution is x = 4\n"
          ]
        }
      ],
      "source": [
        "x = 2+2\n",
        "print('The solution is x = ' + str(x))"
      ]
    },
    {
      "cell_type": "markdown",
      "metadata": {
        "id": "A_e_neEjfeA0"
      },
      "source": [
        "# Question 2\n",
        "What experience with programming have you had in the past? Are you having any anxiety over learning to program? If so, can you tell us what specifically you are most anxious about? Answer in a new cell below using Markdown."
      ]
    },
    {
      "cell_type": "code",
      "execution_count": 4,
      "metadata": {
        "id": "CZTXE1BQfeA0"
      },
      "outputs": [],
      "source": [
        "#I have programming experience in java/C++ etc.\n",
        "#However, I am worried about learning the language in addition to everything covered in the course.\n",
        "#I am worried that the combination will be too much material to review"
      ]
    }
  ],
  "metadata": {
    "kernelspec": {
      "display_name": "Python 3",
      "language": "python",
      "name": "python3"
    },
    "language_info": {
      "codemirror_mode": {
        "name": "ipython",
        "version": 3
      },
      "file_extension": ".py",
      "mimetype": "text/x-python",
      "name": "python",
      "nbconvert_exporter": "python",
      "pygments_lexer": "ipython3",
      "version": "3.7.3"
    },
    "colab": {
      "provenance": []
    }
  },
  "nbformat": 4,
  "nbformat_minor": 0
}