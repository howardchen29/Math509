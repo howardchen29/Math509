{
  "cells": [
    {
      "cell_type": "code",
      "execution_count": null,
      "metadata": {
        "colab": {
          "base_uri": "https://localhost:8080/"
        },
        "id": "HiZ4oOZSFCGk",
        "outputId": "3b952322-f1be-43bb-8e16-8db2d416efc6"
      },
      "outputs": [
        {
          "name": "stdout",
          "output_type": "stream",
          "text": [
            "Populating the interactive namespace from numpy and matplotlib\n"
          ]
        }
      ],
      "source": [
        "%pylab inline\n",
        "%config InlineBackend.figure_format = 'retina'\n",
        "\n",
        "from ipywidgets import interact\n",
        "\n",
        "import pandas as pd\n",
        "import scipy.stats as stats\n",
        "import pymc as pm\n",
        "import seaborn as sns\n",
        "import arviz as az"
      ]
    },
    {
      "cell_type": "markdown",
      "metadata": {
        "id": "lo_GPCRfFCGn"
      },
      "source": [
        "# Question 1\n",
        "\n",
        "During your internship at EPCOR, you are given a dataset containing 10,000 observations of monthly utility bills (in Canadian dollars) for Edmonton houses over the last couple of years. Along with the monthly bill, you are also given:\n",
        "\n",
        "- `avg_temperature`: the average temperature during the billing month (in Celsius).\n",
        "- `household_size`: the number of people living in the house during the billing month.\n",
        "- `house_taxes`: the yearly property taxes according to the last tax notice (in Canadian dollars).\n",
        "\n",
        "Under the consent of residents, the City of Edmonton kindly provided household and taxes information for the dataset. This information was matched, but it's not perfect.\n",
        "\n",
        "Your goal is to determine whether the utility bill amount can be predicted using the other three variables."
      ]
    },
    {
      "cell_type": "markdown",
      "metadata": {
        "id": "ynlrR0S8TiWA"
      },
      "source": [
        "## A (15 points)\n",
        "\n",
        "Load the data from the file `EPCOR1.csv` (link provided below) into a Pandas DataFrame. Clean the data by removing any corrupted values.\n",
        "\n",
        "Do you think using mean imputation is a better approach to deal with corrupted observations in this case? Explain."
      ]
    },
    {
      "cell_type": "code",
      "execution_count": null,
      "metadata": {
        "id": "hcxA8o_-FCGq"
      },
      "outputs": [],
      "source": [
        "path_to_data = 'https://raw.githubusercontent.com/ccontrer/MATH509-Winter2025-JupyterNotebooks/main/Data/Epcor1.csv'\n",
        "df = pd.read_csv(path_to_data, index_col=0)\n",
        "data = df[df['id'] > 1]"
      ]
    },
    {
      "cell_type": "markdown",
      "metadata": {
        "id": "uqzZtVx_TiWB"
      },
      "source": [
        "## B (10 points)\n",
        "\n",
        "Create scatter plots for the utility bill versus the average temperature and the property taxes in different subplots within the same figure."
      ]
    },
    {
      "cell_type": "markdown",
      "metadata": {
        "id": "QEUkYKxgTiWB"
      },
      "source": [
        "## C (10 points)\n",
        "\n",
        "Preprocess the data by standardizing all predictor variables."
      ]
    },
    {
      "cell_type": "markdown",
      "metadata": {
        "id": "HRKVuCh1TiWB"
      },
      "source": [
        "## D (25 points)\n",
        "\n",
        "Propose prior distributions for a simple linear model for `bill` using `avg_temperature` and `household_size` as predictors. Create prior predictive plots. Use MCMC sampling (make 4 chains with 1000 samples and 1000 warm-up steps) to estimate the posterior probability (it should take less than 20 seconds). Display a summary and plot all posterior distributions.\n",
        "\n",
        "Justify your choice of prior distributions."
      ]
    },
    {
      "cell_type": "markdown",
      "metadata": {
        "id": "Zc4hR7h-TiWC"
      },
      "source": [
        "## E (10 points)\n",
        "\n",
        "Based on the scatter plot obtained in part B, do you think this is a reasonable model? Interpret the mean of the posterior for each of the parameters. Comment on the relationship between the monthly average temperature and the utility bill amount. How would you approach modeling the utility bill as a function of the average monthly temperature?"
      ]
    },
    {
      "cell_type": "markdown",
      "metadata": {
        "id": "hhpp3DbrTiWC"
      },
      "source": [
        "## F (20 points)\n",
        "\n",
        "Extend the linear model by adding `house_taxes` as a predictor. Use MCMC sampling (again, make 4 chains with 1000 samples and 1000 warm-up steps) to estimate the posterior probability (it should take less than 25 seconds). Display a summary and plot all posterior distributions.\n",
        "\n",
        "Justify your choice of prior distribution."
      ]
    },
    {
      "cell_type": "markdown",
      "metadata": {
        "id": "Z7-cmZmpTiWC"
      },
      "source": [
        "## G (10 points)\n",
        "\n",
        "Interpret the mean of the posterior for the new parameter. Compare the other mean posterior values with those obtained in part E. Based on the scatter plot you obtained in part B, do you think this is a reasonable model? Comment on the relationship between the yearly property taxes and the utility bill amount. What do you think is happening here?"
      ]
    }
  ],
  "metadata": {
    "colab": {
      "provenance": []
    },
    "kernelspec": {
      "display_name": "Python 3",
      "language": "python",
      "name": "python3"
    },
    "language_info": {
      "codemirror_mode": {
        "name": "ipython",
        "version": 3
      },
      "file_extension": ".py",
      "mimetype": "text/x-python",
      "name": "python",
      "nbconvert_exporter": "python",
      "pygments_lexer": "ipython3",
      "version": "3.12.3"
    }
  },
  "nbformat": 4,
  "nbformat_minor": 0
}