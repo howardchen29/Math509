{
  "cells": [
    {
      "cell_type": "code",
      "execution_count": 1,
      "metadata": {
        "id": "tc2LxKug-qyw",
        "outputId": "fc2d75e5-fdd4-4752-cd8c-6861815ad927",
        "colab": {
          "base_uri": "https://localhost:8080/"
        }
      },
      "outputs": [
        {
          "output_type": "stream",
          "name": "stdout",
          "text": [
            "Populating the interactive namespace from numpy and matplotlib\n"
          ]
        }
      ],
      "source": [
        "%pylab inline\n",
        "%config InlineBackend.figure_format = 'retina'\n",
        "from ipywidgets import interact"
      ]
    },
    {
      "cell_type": "markdown",
      "metadata": {
        "id": "HwifOiEd-qy0"
      },
      "source": [
        "# Question 1\n",
        "Suppose we invent a new representation for finite precision real numbers based on rational numbers instead of floating point numbers. A rational number is simply the ratio of two integers, and we know how to represent integers on a computer. Rational numbers are dense on the real line, and we can approximate any real number to any desired precision with a rational number. Hence, our data structure is simply two integers, one for the numerator and one for the denominator. Next we need to define arithmetic operations ($+,-,\\cdot, /$). For this to work, our data structure must use only integers and we must define arithmetic operations so that they work only with integers (for example, we cannot assume that we can compute `3.2 + 1.498` because the two numbers are not integers).\n",
        "\n",
        "Let $x = I_1 / I_2$ where $I_1$ and $I_2$ are 16bit integers. Assume for simplicity that $0 \\leq I_1 \\leq I_{\\rm max}$ and $0 < I_2 \\leq I_{\\rm max}$. Hence, each real number represented in finite precision with our new system uses 32bits to store in memory.\n",
        "\n",
        "## A\n",
        "There is no point in creating a data structure for finite precision real numbers if we cannot do arithmetic operations with a computer. Devise formulas to perform addition, multiplication, and division that use only arithmetic operations on integers. Arithmetic operations should take as input two numbers in our format and return a single new number also in our format. For example, if $x_1 = I_{11}/I_{21}$ and $x_2 = I_{12}/I_{22}$, then $x_1 + x_2 = x_3$, where $x_3$ is expressed as the ratio of two integers. For each operation, you need to write $x_3$ as the ratio of two integers each of which are functions of the integers $I_{11}, I_{21}, I_{12}, I_{22}$.\n",
        "\n",
        "## B\n",
        "What is $I_{max}$ for a non negative 16bit integer?\n",
        "\n",
        "## C\n",
        "What is the smallest possible nonzero value that can be represented by our numbers (remember that we are assuming they are non negative)?\n",
        "\n",
        "## D\n",
        "What is the largest possible value that can be represented by our numbers?\n",
        "\n",
        "## E\n",
        "What is the smallest (in absolute value) possible absolute difference between two numbers $x_1$ and $x_2$ such that $x_1 \\neq x_2$?\n",
        "\n",
        "## F\n",
        "What is the smallest (in absolute value) possible relative difference between two numbers $x_1$ and $x_2$ such that $x_1 \\neq x_2$? Use the following for relative difference $$\\frac{|x_1 - x_2| }{ \\max(x_1, x_2)}$$\n",
        "\n",
        "## G\n",
        "How do the above answers compare to 32bit floating point numbers? Is this a good way to represent real numbers on a computer? Why or why not?"
      ]
    },
    {
      "cell_type": "code",
      "execution_count": 19,
      "metadata": {
        "id": "G3_OjA5P-qy2",
        "outputId": "c52458d8-a111-40c6-8585-eea483c37c26",
        "colab": {
          "base_uri": "https://localhost:8080/",
          "height": 245
        }
      },
      "outputs": [
        {
          "output_type": "stream",
          "name": "stdout",
          "text": [
            "x1 + x2 = 494/462\n",
            "x1 - x2 = -10/462\n",
            "x1 * x2 = 132/462\n",
            "x1 / x2 = 242/252\n"
          ]
        },
        {
          "output_type": "error",
          "ename": "ValueError",
          "evalue": "Exceeds the limit (4300 digits) for integer string conversion; use sys.set_int_max_str_digits() to increase the limit",
          "traceback": [
            "\u001b[0;31m---------------------------------------------------------------------------\u001b[0m",
            "\u001b[0;31mValueError\u001b[0m                                Traceback (most recent call last)",
            "\u001b[0;32m<ipython-input-19-3008441897d1>\u001b[0m in \u001b[0;36m<cell line: 0>\u001b[0;34m()\u001b[0m\n\u001b[1;32m     29\u001b[0m \u001b[0;31m#Part b)\u001b[0m\u001b[0;34m\u001b[0m\u001b[0;34m\u001b[0m\u001b[0m\n\u001b[1;32m     30\u001b[0m \u001b[0mI\u001b[0m\u001b[0;34m:\u001b[0m \u001b[0mint\u001b[0m \u001b[0;34m=\u001b[0m \u001b[0;36m10\u001b[0m\u001b[0;34m**\u001b[0m\u001b[0;36m30000000\u001b[0m\u001b[0;34m\u001b[0m\u001b[0;34m\u001b[0m\u001b[0m\n\u001b[0;32m---> 31\u001b[0;31m \u001b[0mprint\u001b[0m\u001b[0;34m(\u001b[0m\u001b[0mI\u001b[0m\u001b[0;34m)\u001b[0m\u001b[0;34m\u001b[0m\u001b[0;34m\u001b[0m\u001b[0m\n\u001b[0m",
            "\u001b[0;31mValueError\u001b[0m: Exceeds the limit (4300 digits) for integer string conversion; use sys.set_int_max_str_digits() to increase the limit"
          ]
        }
      ],
      "source": [
        "#Part a)\n",
        "#2 variables I1 and I2 of type int\n",
        "I11: int = 11\n",
        "I21: int = 21\n",
        "I12: int = 12\n",
        "I22: int = 22\n",
        "\n",
        "#Addition\n",
        "x3_num_add = I11*I22+I12*I21\n",
        "x3_denom_add = I21*I22\n",
        "x3_add = str(x3_num_add)+\"/\"+str(x3_denom_add)\n",
        "print(\"x1 + x2 = \"+x3_add)\n",
        "#Subtraction\n",
        "x3_num_sub = I11*I22-I12*I21\n",
        "x3_denom_sub = I21*I22\n",
        "x3_sub = str(x3_num_sub)+\"/\"+str(x3_denom_sub)\n",
        "print(\"x1 - x2 = \"+x3_sub)\n",
        "#Multiplication\n",
        "x3_num_mul = I11*I12\n",
        "x3_denom_mul = I21*I22\n",
        "x3_mul = str(x3_num_mul)+\"/\"+str(x3_denom_mul)\n",
        "print(\"x1 * x2 = \"+x3_mul)\n",
        "#Division\n",
        "x3_num_div = I11*I22\n",
        "x3_denom_div = I21*I12\n",
        "x3_div = str(x3_num_div)+\"/\"+str(x3_denom_div)\n",
        "print(\"x1 / x2 = \"+x3_div)\n",
        "\n",
        "#Part b)\n",
        "I: int = 10**300000\n",
        "print(I)\n"
      ]
    },
    {
      "cell_type": "code",
      "source": [],
      "metadata": {
        "id": "09p3VLG9m2X1"
      },
      "execution_count": null,
      "outputs": []
    }
  ],
  "metadata": {
    "kernelspec": {
      "display_name": "Python 3 (ipykernel)",
      "language": "python",
      "name": "python3"
    },
    "language_info": {
      "codemirror_mode": {
        "name": "ipython",
        "version": 3
      },
      "file_extension": ".py",
      "mimetype": "text/x-python",
      "name": "python",
      "nbconvert_exporter": "python",
      "pygments_lexer": "ipython3",
      "version": "3.9.7"
    },
    "colab": {
      "provenance": []
    }
  },
  "nbformat": 4,
  "nbformat_minor": 0
}