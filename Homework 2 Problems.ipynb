{
  "cells": [
    {
      "cell_type": "code",
      "execution_count": 1,
      "metadata": {
        "id": "tc2LxKug-qyw",
        "outputId": "f5aae4d3-fe73-4952-a292-faeb299330b0",
        "colab": {
          "base_uri": "https://localhost:8080/"
        }
      },
      "outputs": [
        {
          "output_type": "stream",
          "name": "stdout",
          "text": [
            "Populating the interactive namespace from numpy and matplotlib\n"
          ]
        }
      ],
      "source": [
        "%pylab inline\n",
        "%config InlineBackend.figure_format = 'retina'\n",
        "from ipywidgets import interact"
      ]
    },
    {
      "cell_type": "markdown",
      "metadata": {
        "id": "HwifOiEd-qy0"
      },
      "source": [
        "# Question 1\n",
        "Suppose we invent a new representation for finite precision real numbers based on rational numbers instead of floating point numbers. A rational number is simply the ratio of two integers, and we know how to represent integers on a computer. Rational numbers are dense on the real line, and we can approximate any real number to any desired precision with a rational number. Hence, our data structure is simply two integers, one for the numerator and one for the denominator. Next we need to define arithmetic operations ($+,-,\\cdot, /$). For this to work, our data structure must use only integers and we must define arithmetic operations so that they work only with integers (for example, we cannot assume that we can compute `3.2 + 1.498` because the two numbers are not integers).\n",
        "\n",
        "Let $x = I_1 / I_2$ where $I_1$ and $I_2$ are 16bit integers. Assume for simplicity that $0 \\leq I_1 \\leq I_{\\rm max}$ and $0 < I_2 \\leq I_{\\rm max}$. Hence, each real number represented in finite precision with our new system uses 32bits to store in memory.\n",
        "\n",
        "## A\n",
        "There is no point in creating a data structure for finite precision real numbers if we cannot do arithmetic operations with a computer. Devise formulas to perform addition, multiplication, and division that use only arithmetic operations on integers. Arithmetic operations should take as input two numbers in our format and return a single new number also in our format. For example, if $x_1 = I_{11}/I_{21}$ and $x_2 = I_{12}/I_{22}$, then $x_1 + x_2 = x_3$, where $x_3$ is expressed as the ratio of two integers. For each operation, you need to write $x_3$ as the ratio of two integers each of which are functions of the integers $I_{11}, I_{21}, I_{12}, I_{22}$.\n",
        "\n",
        "## B\n",
        "What is $I_{max}$ for a non negative 16bit integer?\n",
        "\n",
        "## C\n",
        "What is the smallest possible nonzero value that can be represented by our numbers (remember that we are assuming they are non negative)?\n",
        "\n",
        "## D\n",
        "What is the largest possible value that can be represented by our numbers?\n",
        "\n",
        "## E\n",
        "What is the smallest (in absolute value) possible absolute difference between two numbers $x_1$ and $x_2$ such that $x_1 \\neq x_2$?\n",
        "\n",
        "## F\n",
        "What is the smallest (in absolute value) possible relative difference between two numbers $x_1$ and $x_2$ such that $x_1 \\neq x_2$? Use the following for relative difference $$\\frac{|x_1 - x_2| }{ \\max(x_1, x_2)}$$\n",
        "\n",
        "## G\n",
        "How do the above answers compare to 32bit floating point numbers? Is this a good way to represent real numbers on a computer? Why or why not?"
      ]
    },
    {
      "cell_type": "code",
      "execution_count": 2,
      "metadata": {
        "id": "G3_OjA5P-qy2",
        "outputId": "abe832f9-ac4b-46da-9389-c86d82c3d2bf",
        "colab": {
          "base_uri": "https://localhost:8080/"
        }
      },
      "outputs": [
        {
          "output_type": "stream",
          "name": "stdout",
          "text": [
            "x1 + x2 = 494/462\n",
            "x1 - x2 = -10/462\n",
            "x1 * x2 = 132/462\n",
            "x1 / x2 = 242/252\n"
          ]
        }
      ],
      "source": [
        "#Part a)\n",
        "#2 variables I1 and I2 of type int\n",
        "I11: int = 11\n",
        "I21: int = 21\n",
        "I12: int = 12\n",
        "I22: int = 22\n",
        "\n",
        "#Addition\n",
        "x3_num_add = I11*I22+I12*I21\n",
        "x3_denom_add = I21*I22\n",
        "x3_add = str(x3_num_add)+\"/\"+str(x3_denom_add)\n",
        "print(\"x1 + x2 = \"+x3_add)\n",
        "#Subtraction\n",
        "x3_num_sub = I11*I22-I12*I21\n",
        "x3_denom_sub = I21*I22\n",
        "x3_sub = str(x3_num_sub)+\"/\"+str(x3_denom_sub)\n",
        "print(\"x1 - x2 = \"+x3_sub)\n",
        "#Multiplication\n",
        "x3_num_mul = I11*I12\n",
        "x3_denom_mul = I21*I22\n",
        "x3_mul = str(x3_num_mul)+\"/\"+str(x3_denom_mul)\n",
        "print(\"x1 * x2 = \"+x3_mul)\n",
        "#Division\n",
        "x3_num_div = I11*I22\n",
        "x3_denom_div = I21*I12\n",
        "x3_div = str(x3_num_div)+\"/\"+str(x3_denom_div)\n",
        "print(\"x1 / x2 = \"+x3_div)\n",
        "\n",
        "#Part b)\n",
        "#Since its 16 bit integer, we can have 2^16 values (2 bits and we have 16 bits of room).\n",
        "#However, since 0 is also an integer, the range is from 0 to 2^16-1, or from 0 to 65535\n",
        "\n",
        "#Part c)\n",
        "#Smallest non-zero value would be smallest numerator with highest denominator.\n",
        "#Since smallest non-zero numerator is 1 and highest denominator is 65535,\n",
        "#the smallest non-zero is 1/65535\n",
        "\n",
        "#Part d)\n",
        "#Largest is opposite of c, where numerator = 65535 and denominator = 1\n",
        "#largest number is 65535/1\n",
        "\n",
        "#Part e)\n",
        "#Smallest non-zero value would be smallest numerator with highest denominator.\n",
        "#Since smallest non-zero in our multiplication form is 257*255 - 255*256 = 65535 - 65280 = 255\n",
        "#and denominator is 255*255, the smallest non-zero is 255/65535 or 1/255\n",
        "\n",
        "#Part f)\n",
        "#Since we are using the max function now, we can adjust the way we calculate.\n",
        "#we set x1 = 65535/1 and x2 = 65534/1. from this we get (65535/1-65534/1)/max(65535/1,65534/1)\n",
        "#this calculates to (1/1)/(65535/1) which evaluates to 65535/1\n",
        "\n",
        "#part g)\n",
        "#Largest 32bit float is\n"
      ]
    }
  ],
  "metadata": {
    "kernelspec": {
      "display_name": "Python 3 (ipykernel)",
      "language": "python",
      "name": "python3"
    },
    "language_info": {
      "codemirror_mode": {
        "name": "ipython",
        "version": 3
      },
      "file_extension": ".py",
      "mimetype": "text/x-python",
      "name": "python",
      "nbconvert_exporter": "python",
      "pygments_lexer": "ipython3",
      "version": "3.9.7"
    },
    "colab": {
      "provenance": []
    }
  },
  "nbformat": 4,
  "nbformat_minor": 0
}